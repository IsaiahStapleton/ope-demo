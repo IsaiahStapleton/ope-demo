{
 "cells": [
  {
   "cell_type": "markdown",
   "id": "da0ee139-7cd2-4870-abfe-5df71baffb7f",
   "metadata": {},
   "source": [
    "# My First Section\n",
    "\n",
    "Welcome to my first section :)\n"
   ]
  }
 ],
 "metadata": {
  "kernelspec": {
   "display_name": "Python 3 (ipykernel)",
   "language": "python",
   "name": "python3"
  },
  "language_info": {
   "codemirror_mode": {
    "name": "ipython",
    "version": 3
   },
   "file_extension": ".py",
   "mimetype": "text/x-python",
   "name": "python",
   "nbconvert_exporter": "python",
   "pygments_lexer": "ipython3",
   "version": "3.10.5"
  }
 },
 "nbformat": 4,
 "nbformat_minor": 5
}
